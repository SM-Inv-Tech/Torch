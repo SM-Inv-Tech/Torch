{
 "cells": [
  {
   "cell_type": "markdown",
   "metadata": {
    "pycharm": {
     "name": "#%% md\n"
    }
   },
   "source": [
    "## Python深度学习基于PyTorch"
   ]
  },
  {
   "cell_type": "markdown",
   "metadata": {},
   "source": [
    "### 入门例子(手写例子)"
   ]
  },
  {
   "cell_type": "code",
   "execution_count": 1,
   "metadata": {
    "collapsed": false,
    "jupyter": {
     "outputs_hidden": false
    },
    "pycharm": {
     "name": "#%%\n"
    }
   },
   "outputs": [],
   "source": [
    "from jupyterthemes import jtplot\n",
    "jtplot.style(\"onedork\")\n",
    "\n",
    "import numpy as np\n",
    "\n",
    "# 导入torch\n",
    "import torch\n",
    "\n",
    "# 导入mnist数据集\n",
    "from torchvision.datasets import mnist\n",
    "\n",
    "# 导入预处理模块\n",
    "import torchvision.transforms as transforms\n",
    "from torch.utils.data import DataLoader\n",
    "\n",
    "# 导入优化器\n",
    "import torch.nn.functional as F\n",
    "import torch.optim as optim\n",
    "from torch import nn"
   ]
  },
  {
   "cell_type": "code",
   "execution_count": 2,
   "metadata": {
    "collapsed": false,
    "jupyter": {
     "outputs_hidden": false
    },
    "pycharm": {
     "name": "#%%\n"
    }
   },
   "outputs": [],
   "source": [
    "# 定义超参数\n",
    "train_batch_size = 60\n",
    "test_batch_size = 128\n",
    "learning_rate = 0.01\n",
    "num_epoches = 20\n",
    "lr = 0.01\n",
    "momentum = 0.5"
   ]
  },
  {
   "cell_type": "code",
   "execution_count": 3,
   "metadata": {
    "collapsed": false,
    "jupyter": {
     "outputs_hidden": false
    },
    "pycharm": {
     "name": "#%%\n"
    }
   },
   "outputs": [],
   "source": [
    "# 定义预处理函数，这些预处理依次放在Compose函数中。\n",
    "transform = transforms.Compose([transforms.ToTensor(), transforms.Normalize([0.5], [0.5])])\n",
    "\n",
    "# 下载数据，并对数据进行预处理\n",
    "train_dataset = mnist.MNIST(\"./dataset\", train=True, transform=transform, download=True)\n",
    "test_dataset = mnist.MNIST(\"./dataset\", train=False, transform=transform)\n",
    "\n",
    "# dataloader是一个可迭代对象，可以像迭代器一样使用。\n",
    "train_loader = DataLoader(train_dataset, batch_size=train_batch_size, shuffle=True)\n",
    "test_loader = DataLoader(test_dataset, batch_size=test_batch_size, shuffle=True)"
   ]
  },
  {
   "cell_type": "markdown",
   "metadata": {
    "pycharm": {
     "name": "#%% md\n"
    }
   },
   "source": [
    "### 数据可视化"
   ]
  },
  {
   "cell_type": "code",
   "execution_count": 4,
   "metadata": {
    "collapsed": false,
    "jupyter": {
     "outputs_hidden": false
    },
    "pycharm": {
     "name": "#%%\n"
    }
   },
   "outputs": [],
   "source": [
    "import matplotlib.pyplot as plt\n",
    "%matplotlib inline"
   ]
  },
  {
   "cell_type": "code",
   "execution_count": 5,
   "metadata": {
    "collapsed": false,
    "jupyter": {
     "outputs_hidden": false
    },
    "pycharm": {
     "name": "#%%\n"
    }
   },
   "outputs": [
    {
     "data": {
      "image/png": "[encoded data removed]",
      "text/plain": [
       "<Figure size 432x288 with 6 Axes>"
      ]
     },
     "metadata": {},
     "output_type": "display_data"
    }
   ],
   "source": [
    "# 可视化\n",
    "example = enumerate(test_loader)\n",
    "batch_idx, (example_data, example_target) = next(example)\n",
    "\n",
    "fig = plt.figure()\n",
    "for i in range(6):\n",
    "    plt.subplot(2, 3, i+1)\n",
    "    plt.tight_layout()\n",
    "    plt.imshow(example_data[i][0], cmap=\"gray\", interpolation=\"none\")\n",
    "    plt.title(\"Ground Truth: {}\".format(example_target[i]))\n",
    "    plt.xticks([])\n",
    "    plt.yticks([])"
   ]
  },
  {
   "cell_type": "code",
   "execution_count": 6,
   "metadata": {
    "collapsed": false,
    "jupyter": {
     "outputs_hidden": false
    },
    "pycharm": {
     "name": "#%%\n"
    }
   },
   "outputs": [],
   "source": [
    "# 定义网络\n",
    "class Net(nn.Module):\n",
    "    \"\"\"\n",
    "    使用sequential构建网络\n",
    "    \"\"\"\n",
    "    def __init__(self, in_dim, n_hidden_1, n_hidden_2, out_dim):\n",
    "        super(Net, self).__init__()\n",
    "        self.layer_1 = nn.Sequential(nn.Linear(in_dim, n_hidden_1), nn.BatchNorm1d(n_hidden_1))\n",
    "        self.layer_2 = nn.Sequential(nn.Linear(n_hidden_1, n_hidden_2), nn.BatchNorm1d(n_hidden_2))\n",
    "        self.layer_3 = nn.Sequential(nn.Linear(n_hidden_2, out_dim))\n",
    "\n",
    "    def forward(self, x):\n",
    "        x = F.relu(self.layer_1(x))\n",
    "        x = F.relu(self.layer_2(x))\n",
    "        x = self.layer_3(x)\n",
    "\n",
    "        return x"
   ]
  },
  {
   "cell_type": "code",
   "execution_count": 7,
   "metadata": {
    "collapsed": false,
    "jupyter": {
     "outputs_hidden": false
    },
    "pycharm": {
     "name": "#%%\n"
    }
   },
   "outputs": [],
   "source": [
    "# 检查设备\n",
    "device = torch.device(\"cuda:0\" if torch.cuda.is_available() else \"cpu\")\n",
    "\n",
    "# 实例化网络\n",
    "model = Net(28*28, 300, 100, 10)\n",
    "model.to(device)\n",
    "\n",
    "# 定义损失函数\n",
    "criterion = nn.CrossEntropyLoss()\n",
    "optimizer = optim.SGD(model.parameters(), lr=learning_rate, momentum=momentum)"
   ]
  },
  {
   "cell_type": "code",
   "execution_count": 8,
   "metadata": {
    "collapsed": false,
    "jupyter": {
     "outputs_hidden": false
    },
    "pycharm": {
     "name": "#%%\n"
    }
   },
   "outputs": [
    {
     "name": "stdout",
     "output_type": "stream",
     "text": [
      "epoch: 0, Train Loss: 0.9891, Train Acc: 0.7895, Test Loss: 0.5255, Test Acc: 0.9042\n",
      "epoch: 1, Train Loss: 0.4624, Train Acc: 0.9014, Test Loss: 0.3405, Test Acc: 0.9271\n",
      "epoch: 2, Train Loss: 0.3391, Train Acc: 0.9209, Test Loss: 0.2606, Test Acc: 0.9386\n",
      "epoch: 3, Train Loss: 0.2763, Train Acc: 0.9330, Test Loss: 0.2208, Test Acc: 0.9458\n",
      "epoch: 4, Train Loss: 0.2346, Train Acc: 0.9424, Test Loss: 0.1910, Test Acc: 0.9508\n",
      "epoch: 5, Train Loss: 0.2139, Train Acc: 0.9483, Test Loss: 0.1870, Test Acc: 0.9516\n",
      "epoch: 6, Train Loss: 0.2114, Train Acc: 0.9485, Test Loss: 0.1835, Test Acc: 0.9530\n",
      "epoch: 7, Train Loss: 0.2091, Train Acc: 0.9493, Test Loss: 0.1805, Test Acc: 0.9531\n",
      "epoch: 8, Train Loss: 0.2055, Train Acc: 0.9493, Test Loss: 0.1808, Test Acc: 0.9529\n",
      "epoch: 9, Train Loss: 0.2031, Train Acc: 0.9504, Test Loss: 0.1806, Test Acc: 0.9531\n",
      "epoch: 10, Train Loss: 0.2012, Train Acc: 0.9511, Test Loss: 0.1779, Test Acc: 0.9540\n",
      "epoch: 11, Train Loss: 0.2007, Train Acc: 0.9501, Test Loss: 0.1779, Test Acc: 0.9543\n",
      "epoch: 12, Train Loss: 0.2019, Train Acc: 0.9501, Test Loss: 0.1757, Test Acc: 0.9546\n",
      "epoch: 13, Train Loss: 0.2007, Train Acc: 0.9506, Test Loss: 0.1791, Test Acc: 0.9540\n",
      "epoch: 14, Train Loss: 0.2019, Train Acc: 0.9500, Test Loss: 0.1791, Test Acc: 0.9544\n",
      "epoch: 15, Train Loss: 0.1996, Train Acc: 0.9513, Test Loss: 0.1803, Test Acc: 0.9534\n",
      "epoch: 16, Train Loss: 0.1998, Train Acc: 0.9515, Test Loss: 0.1784, Test Acc: 0.9540\n",
      "epoch: 17, Train Loss: 0.1994, Train Acc: 0.9511, Test Loss: 0.1779, Test Acc: 0.9537\n",
      "epoch: 18, Train Loss: 0.1998, Train Acc: 0.9516, Test Loss: 0.1762, Test Acc: 0.9546\n",
      "epoch: 19, Train Loss: 0.2008, Train Acc: 0.9501, Test Loss: 0.1776, Test Acc: 0.9548\n"
     ]
    }
   ],
   "source": [
    "# 训练模型\n",
    "losses = []\n",
    "acces = []\n",
    "eval_losses = []\n",
    "eval_aces = []\n",
    "\n",
    "for epoch in range(num_epoches):\n",
    "    train_loss = 0\n",
    "    train_acc = 0\n",
    "    model.train()\n",
    "    # 动态修改学习率\n",
    "    if epoch % 5 == 0:\n",
    "        optimizer.param_groups[0][\"lr\"] *= 0.1\n",
    "    for img, label in train_loader:\n",
    "        img = img.to(device)\n",
    "        label = label.to(device)\n",
    "        img = img.view(img.size(0), -1)\n",
    "\n",
    "        # 前向传播\n",
    "        out = model(img)\n",
    "        loss = criterion(out, label)\n",
    "\n",
    "        # 反向传播\n",
    "        optimizer.zero_grad()\n",
    "        loss.backward()\n",
    "        optimizer.step()\n",
    "\n",
    "        # 记录误差\n",
    "        train_loss += loss.item()\n",
    "\n",
    "        # 计算分类准确率\n",
    "        _, pred = out.max(1)\n",
    "        num_correct = (pred == label).sum().item()\n",
    "        acc = num_correct / img.shape[0]\n",
    "        train_acc += acc\n",
    "\n",
    "    losses.append(train_loss / len(train_loader))\n",
    "    acces.append(train_acc / len(train_loader))\n",
    "\n",
    "    # 测试集效果检验\n",
    "    eval_loss = 0\n",
    "    eval_acc = 0\n",
    "\n",
    "    # 将模型改为预测模式\n",
    "    model.eval()\n",
    "    for img, label in test_loader:\n",
    "        img = img.to(device)\n",
    "        label = label.to(device)\n",
    "        img = img.view(img.size(0), -1)\n",
    "        out = model(img)\n",
    "        loss = criterion(out, label)\n",
    "\n",
    "        # 记录误差\n",
    "        eval_loss += loss.item()\n",
    "        # 记录准确率\n",
    "        _, pred = out.max(1)\n",
    "        num_correct = (pred == label).sum().item()\n",
    "        acc = num_correct / img.shape[0]\n",
    "        eval_acc += acc\n",
    "\n",
    "    eval_losses.append(eval_loss / len(test_loader))\n",
    "    eval_aces.append(eval_acc / len(test_loader))\n",
    "    print(\"epoch: {}, Train Loss: {:.4f}, Train Acc: {:.4f}, Test Loss: {:.4f}, Test Acc: {:.4f}\".format(\n",
    "           epoch, train_loss/ len(train_loader), train_acc / len(train_loader), eval_loss / len(test_loader), eval_acc / len(test_loader)))"
   ]
  },
  {
   "cell_type": "markdown",
   "metadata": {
    "pycharm": {
     "name": "#%% md\n"
    }
   },
   "source": [
    "### 可视化训练过程"
   ]
  },
  {
   "cell_type": "code",
   "execution_count": 9,
   "metadata": {
    "collapsed": false,
    "jupyter": {
     "outputs_hidden": false
    },
    "pycharm": {
     "name": "#%%\n"
    }
   },
   "outputs": [
    {
     "data": {
      "text/plain": [
       "<matplotlib.legend.Legend at 0x7f60c72a7ca0>"
      ]
     },
     "execution_count": 9,
     "metadata": {},
     "output_type": "execute_result"
    },
    {
     "data": {
      "image/png": "[encoded data removed]",
      "text/plain": [
       "<Figure size 432x288 with 1 Axes>"
      ]
     },
     "metadata": {
      "needs_background": "dark"
     },
     "output_type": "display_data"
    }
   ],
   "source": [
    "plt.title(\"train loss\")\n",
    "plt.plot(np.arange(len(losses)), losses)\n",
    "plt.legend([\"Train Loss\"], loc=\"upper right\")\n"
   ]
  }
 ],
 "metadata": {
  "kernelspec": {
   "display_name": "Python 3",
   "language": "python",
   "name": "python3"
  },
  "language_info": {
   "codemirror_mode": {
    "name": "ipython",
    "version": 3
   },
   "file_extension": ".py",
   "mimetype": "text/x-python",
   "name": "python",
   "nbconvert_exporter": "python",
   "pygments_lexer": "ipython3",
   "version": "3.8.3"
  }
 },
 "nbformat": 4,
 "nbformat_minor": 4
}
