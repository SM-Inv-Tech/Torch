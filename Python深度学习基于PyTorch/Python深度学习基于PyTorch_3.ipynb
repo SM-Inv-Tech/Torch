{
 "cells": [
  {
   "cell_type": "markdown",
   "metadata": {
    "pycharm": {
     "name": "#%% md\n"
    }
   },
   "source": [
    "## 数据处理工具"
   ]
  },
  {
   "cell_type": "code",
   "execution_count": 1,
   "metadata": {
    "collapsed": false,
    "jupyter": {
     "outputs_hidden": false
    },
    "pycharm": {
     "name": "#%%\n"
    }
   },
   "outputs": [],
   "source": [
    "import torch\n",
    "from torch.utils import data\n",
    "import numpy as np"
   ]
  },
  {
   "cell_type": "code",
   "execution_count": 2,
   "metadata": {
    "collapsed": false,
    "jupyter": {
     "outputs_hidden": false
    },
    "pycharm": {
     "name": "#%%\n"
    }
   },
   "outputs": [],
   "source": [
    "# 定义网络\n",
    "class TestDataset(data.Dataset):\n",
    "    def __init__(self):\n",
    "        # 特征数据\n",
    "        self.Data = np.asarray([[1, 2], [3, 4], [5, 6], [7, 8], [9, 10]])\n",
    "        # 标签数据\n",
    "        self.Label = np.asarray([0, 1, 1, 0, 0])\n",
    "\n",
    "    def __getitem__(self, index):\n",
    "        \"\"\"\n",
    "        获取单个数据\n",
    "        :param index: 数据索引\n",
    "        :return: 索引对应的数据\n",
    "        \"\"\"\n",
    "        x = torch.from_numpy(self.Data[index])\n",
    "        y = torch.tensor(self.Label[index])\n",
    "        return x, y\n",
    "\n",
    "    def __len__(self):\n",
    "        \"\"\"\n",
    "        获取数据的总数量\n",
    "        :return: 数据总数量\n",
    "        \"\"\"\n",
    "        return len(self.Data)"
   ]
  },
  {
   "cell_type": "code",
   "execution_count": 3,
   "metadata": {
    "collapsed": false,
    "jupyter": {
     "outputs_hidden": false
    },
    "pycharm": {
     "name": "#%%\n"
    }
   },
   "outputs": [
    {
     "data": {
      "text/plain": [
       "(tensor([5, 6]), tensor(1))"
      ]
     },
     "execution_count": 3,
     "metadata": {},
     "output_type": "execute_result"
    }
   ],
   "source": [
    "data_test = TestDataset()\n",
    "data_test[2]"
   ]
  },
  {
   "cell_type": "markdown",
   "metadata": {
    "pycharm": {
     "name": "#%% md\n"
    }
   },
   "source": [
    "### 通过DataLoader重新定义一个迭代器"
   ]
  },
  {
   "cell_type": "code",
   "execution_count": 4,
   "metadata": {
    "collapsed": false,
    "jupyter": {
     "outputs_hidden": false
    },
    "pycharm": {
     "name": "#%%\n"
    }
   },
   "outputs": [
    {
     "name": "stdout",
     "output_type": "stream",
     "text": [
      "i:  0\n",
      "data:  tensor([[1, 2],\n",
      "        [3, 4]])\n",
      "target:  tensor([0, 1])\n",
      "i:  1\n",
      "data:  tensor([[5, 6],\n",
      "        [7, 8]])\n",
      "target:  tensor([1, 0])\n",
      "i:  2\n",
      "data:  tensor([[ 9, 10]])\n",
      "target:  tensor([0])\n"
     ]
    }
   ],
   "source": [
    "date_loader = data.DataLoader(dataset=data_test, batch_size=2, shuffle=True, num_workers=2)\n",
    "for i, train_data in enumerate(date_loader):\n",
    "    print(\"i: \", i)\n",
    "    X, y = train_data\n",
    "    print(\"data: \", X)\n",
    "    print(\"target: \", y)\n"
   ]
  }
 ],
 "metadata": {
  "kernelspec": {
   "display_name": "Python 3",
   "language": "python",
   "name": "python3"
  },
  "language_info": {
   "codemirror_mode": {
    "name": "ipython",
    "version": 3
   },
   "file_extension": ".py",
   "mimetype": "text/x-python",
   "name": "python",
   "nbconvert_exporter": "python",
   "pygments_lexer": "ipython3",
   "version": "3.8.3"
  }
 },
 "nbformat": 4,
 "nbformat_minor": 4
}
